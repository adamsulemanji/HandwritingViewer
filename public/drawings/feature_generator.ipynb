{
 "cells": [
  {
   "cell_type": "code",
   "execution_count": 1,
   "id": "9fe54f2c",
   "metadata": {},
   "outputs": [],
   "source": [
    "import os\n",
    "import json\n",
    "import math\n",
    "import numpy as np\n",
    "import pandas as pd\n",
    "from scipy.spatial import ConvexHull\n",
    "from sklearn.model_selection import train_test_split\n",
    "from sklearn.ensemble import RandomForestClassifier\n",
    "from sklearn.metrics import accuracy_score, classification_report\n",
    "\n",
    "def load_json_file(file_path):\n",
    "    with open(file_path, 'r') as file:\n",
    "        json_data = json.load(file)\n",
    "    return json_data\n",
    "\n",
    "def compute_features(json_data, features):\n",
    "    strokes = json_data.get('strokes', [])\n",
    "    computed_features = {}\n",
    "\n",
    "    for feature in features:\n",
    "        if feature == 'total_strokes':\n",
    "            computed_features['total_strokes'] = len(strokes)\n",
    "        \n",
    "        elif feature == 'total_points':\n",
    "            total_points = sum(len(stroke) for stroke in strokes)\n",
    "            computed_features['total_points'] = total_points\n",
    "        \n",
    "        elif feature == 'average_points_per_stroke':\n",
    "            if len(strokes) > 0:\n",
    "                avg_points_per_stroke = sum(len(stroke) for stroke in strokes) / len(strokes)\n",
    "            else:\n",
    "                avg_points_per_stroke = 0\n",
    "            computed_features['average_points_per_stroke'] = avg_points_per_stroke\n",
    "        \n",
    "        elif feature == 'drawing_duration':\n",
    "            if strokes:\n",
    "                start_times = [min(point['t'] for point in stroke) for stroke in strokes if stroke]\n",
    "                end_times = [max(point['t'] for point in stroke) for stroke in strokes if stroke]\n",
    "                drawing_duration = max(end_times) - min(start_times)\n",
    "            else:\n",
    "                drawing_duration = 0\n",
    "            computed_features['drawing_duration'] = drawing_duration\n",
    "        \n",
    "        elif feature == 'distance_first_to_last_point':\n",
    "            if strokes:\n",
    "                first_point = strokes[0][0]\n",
    "                last_point = strokes[-1][-1]\n",
    "                distance = math.sqrt((last_point['x'] - first_point['x'])**2 + (last_point['y'] - first_point['y'])**2)\n",
    "            else:\n",
    "                distance = 0\n",
    "            computed_features['distance_first_to_last_point'] = distance\n",
    "        \n",
    "        elif feature == 'convex_hull_to_bounding_rectangle_ratio':\n",
    "            if strokes:\n",
    "                all_points = [(point['x'], point['y']) for stroke in strokes for point in stroke]\n",
    "                if all_points:\n",
    "                    min_x = min(point[0] for point in all_points)\n",
    "                    max_x = max(point[0] for point in all_points)\n",
    "                    min_y = min(point[1] for point in all_points)\n",
    "                    max_y = max(point[1] for point in all_points)\n",
    "                    bounding_rectangle_area = (max_x - min_x) * (max_y - min_y)\n",
    "                    if bounding_rectangle_area > 0:\n",
    "                        hull = ConvexHull(all_points)\n",
    "                        convex_hull_area = hull.area\n",
    "                        ratio = convex_hull_area / bounding_rectangle_area\n",
    "                    else:\n",
    "                        ratio = 0\n",
    "                else:\n",
    "                    ratio = 0\n",
    "            else:\n",
    "                ratio = 0\n",
    "            computed_features['convex_hull_to_bounding_rectangle_ratio'] = ratio\n",
    "\n",
    "    return computed_features\n",
    "\n",
    "def process_drawing_files(folder_path, features):\n",
    "    drawing_data = []\n",
    "    labels = []\n",
    "\n",
    "    for filename in os.listdir(folder_path):\n",
    "        if filename.endswith('.json') and ('bad_A_' in filename or 'good_A_' in filename):\n",
    "            file_path = os.path.join(folder_path, filename)\n",
    "            json_data = load_json_file(file_path)\n",
    "            computed_features = compute_features(json_data, features)\n",
    "\n",
    "            # Determine label based on filename prefix\n",
    "            if 'bad_A_' in filename:\n",
    "                label = 0\n",
    "            else:\n",
    "                label = 1\n",
    "\n",
    "            # Add computed features and label to the lists\n",
    "            drawing_data.append(computed_features)\n",
    "            labels.append(label)\n",
    "\n",
    "    return pd.DataFrame(drawing_data), pd.Series(labels)\n",
    "\n",
    "# Specify the folder path where the JSON files are located\n",
    "folder_path = '.'  # Assuming JSON files are in the same directory as this script\n",
    "\n",
    "# List of features to compute\n",
    "requested_features = [\n",
    "    'total_strokes', \n",
    "    'total_points', \n",
    "    'average_points_per_stroke', \n",
    "    'drawing_duration',\n",
    "    'distance_first_to_last_point',\n",
    "    'convex_hull_to_bounding_rectangle_ratio'\n",
    "]\n",
    "\n",
    "# Process drawing files and extract features and labels\n",
    "X, y = process_drawing_files(folder_path, requested_features)\n",
    "\n",
    "# # Split the data into training and testing sets\n",
    "# X_train, X_test, y_train, y_test = train_test_split(X, y, test_size=0.2, random_state=42)\n",
    "\n",
    "# # Initialize and train a logistic regression model\n",
    "# model = RandomForestClassifier()\n",
    "# model.fit(X_train, y_train)\n",
    "\n",
    "# # Make predictions on the test set\n",
    "# y_pred = model.predict(X_test)\n",
    "\n",
    "# # Evaluate the model\n",
    "# accuracy = accuracy_score(y_test, y_pred)\n",
    "# print(f\"Accuracy: {accuracy:.2f}\")\n",
    "\n",
    "# # Print classification report\n",
    "# print(\"Classification Report:\")\n",
    "# print(classification_report(y_test, y_pred))\n"
   ]
  },
  {
   "cell_type": "code",
   "execution_count": 2,
   "id": "289f0a86",
   "metadata": {},
   "outputs": [
    {
     "name": "stdout",
     "output_type": "stream",
     "text": [
      "              precision    recall  f1-score   support\n",
      "\n",
      "           0       0.67      1.00      0.80         2\n",
      "           1       1.00      0.80      0.89         5\n",
      "\n",
      "    accuracy                           0.86         7\n",
      "   macro avg       0.83      0.90      0.84         7\n",
      "weighted avg       0.90      0.86      0.86         7\n",
      "\n"
     ]
    }
   ],
   "source": [
    "from sklearn.metrics import classification_report\n",
    "from sklearn.model_selection import train_test_split\n",
    "\n",
    "# Split into train and test \n",
    "X_train, X_test, y_train, y_test = train_test_split(X, y, test_size=0.2, random_state=42)\n",
    "\n",
    "# Train a machine learning model\n",
    "from sklearn.ensemble import RandomForestClassifier\n",
    "clf = RandomForestClassifier()\n",
    "clf.fit(X_train, y_train)\n",
    "\n",
    "# Make prediction on the testing data\n",
    "y_pred = clf.predict(X_test)\n",
    "\n",
    "# Classification Report\n",
    "print(classification_report(y_pred, y_test))\n"
   ]
  },
  {
   "cell_type": "code",
   "execution_count": 3,
   "id": "ac5386e8",
   "metadata": {},
   "outputs": [
    {
     "data": {
      "text/html": [
       "\n",
       "<div id='i5Q48BT81HR1EE00JJJAP'>\n",
       "<div style='color: #900; text-align: center;'>\n",
       "  <b>Visualization omitted, Javascript library not loaded!</b><br>\n",
       "  Have you run `initjs()` in this notebook? If this notebook was from another\n",
       "  user you must also trust this notebook (File -> Trust notebook). If you are viewing\n",
       "  this notebook on github the Javascript has been stripped for security. If you are using\n",
       "  JupyterLab this error is because a JupyterLab extension has not yet been written.\n",
       "</div></div>\n",
       " <script>\n",
       "   if (window.SHAP) SHAP.ReactDom.render(\n",
       "    SHAP.React.createElement(SHAP.AdditiveForceVisualizer, {\"outNames\": [\"f(x)\"], \"baseValue\": 0.48, \"outValue\": 1.0, \"link\": \"identity\", \"featureNames\": [\"total_strokes\", \"total_points\", \"average_points_per_stroke\", \"drawing_duration\", \"distance_first_to_last_point\", \"convex_hull_to_bounding_rectangle_ratio\"], \"features\": {\"0\": {\"effect\": 0.09199999999999998, \"value\": 2.0}, \"1\": {\"effect\": 0.003999999999999934, \"value\": 828.0}, \"2\": {\"effect\": -0.01733333333333341, \"value\": 414.0}, \"3\": {\"effect\": 0.3006666666666669, \"value\": 3.1378860473632812}, \"4\": {\"effect\": 0.020666666666666614, \"value\": 296.89223634174067}, \"5\": {\"effect\": 0.12, \"value\": 0.012391346828181193}}, \"plot_cmap\": \"RdBu\", \"labelMargin\": 20}),\n",
       "    document.getElementById('i5Q48BT81HR1EE00JJJAP')\n",
       "  );\n",
       "</script>"
      ],
      "text/plain": [
       "<shap.plots._force.AdditiveForceVisualizer at 0x18158e13ee0>"
      ]
     },
     "execution_count": 3,
     "metadata": {},
     "output_type": "execute_result"
    }
   ],
   "source": [
    "\n",
    "import shap\n",
    "import matplotlib.pyplot as plt\n",
    "instance = 0\n",
    "ex = shap.KernelExplainer(clf.predict, X_train)\n",
    "shap_values = ex.shap_values(X_test.iloc[instance,:])\n",
    "shap.force_plot(ex.expected_value, shap_values, X_test.iloc[instance,:])"
   ]
  },
  {
   "cell_type": "code",
   "execution_count": 4,
   "id": "51827749",
   "metadata": {},
   "outputs": [
    {
     "data": {
      "text/html": [
       "\n",
       "<div id='i4U4SHCU5P917VC5FB4B0'>\n",
       "<div style='color: #900; text-align: center;'>\n",
       "  <b>Visualization omitted, Javascript library not loaded!</b><br>\n",
       "  Have you run `initjs()` in this notebook? If this notebook was from another\n",
       "  user you must also trust this notebook (File -> Trust notebook). If you are viewing\n",
       "  this notebook on github the Javascript has been stripped for security. If you are using\n",
       "  JupyterLab this error is because a JupyterLab extension has not yet been written.\n",
       "</div></div>\n",
       " <script>\n",
       "   if (window.SHAP) SHAP.ReactDom.render(\n",
       "    SHAP.React.createElement(SHAP.AdditiveForceVisualizer, {\"outNames\": [\"f(x)\"], \"baseValue\": 0.48, \"outValue\": 0.0, \"link\": \"identity\", \"featureNames\": [\"total_strokes\", \"total_points\", \"average_points_per_stroke\", \"drawing_duration\", \"distance_first_to_last_point\", \"convex_hull_to_bounding_rectangle_ratio\"], \"features\": {\"0\": {\"effect\": 0.01466666666666672, \"value\": 2.0}, \"1\": {\"effect\": -0.006666666666666591, \"value\": 897.0}, \"2\": {\"effect\": 0.010000000000000108, \"value\": 448.5}, \"3\": {\"effect\": -0.5340000000000004, \"value\": 1.8507823944091797}, \"4\": {\"effect\": 0.006666666666666679, \"value\": 329.38882798297817}, \"5\": {\"effect\": 0.029333333333333433, \"value\": 0.010990050731026916}}, \"plot_cmap\": \"RdBu\", \"labelMargin\": 20}),\n",
       "    document.getElementById('i4U4SHCU5P917VC5FB4B0')\n",
       "  );\n",
       "</script>"
      ],
      "text/plain": [
       "<shap.plots._force.AdditiveForceVisualizer at 0x18158dfd460>"
      ]
     },
     "execution_count": 4,
     "metadata": {},
     "output_type": "execute_result"
    }
   ],
   "source": [
    "import shap\n",
    "import matplotlib.pyplot as plt\n",
    "instance = 1\n",
    "ex = shap.KernelExplainer(clf.predict, X_train)\n",
    "shap_values = ex.shap_values(X_test.iloc[instance,:])\n",
    "shap.force_plot(ex.expected_value, shap_values, X_test.iloc[instance,:])"
   ]
  },
  {
   "cell_type": "code",
   "execution_count": 5,
   "id": "875a5336",
   "metadata": {},
   "outputs": [
    {
     "data": {
      "text/html": [
       "\n",
       "<div id='iTGD7647Y7V5Y8V6NOLEG'>\n",
       "<div style='color: #900; text-align: center;'>\n",
       "  <b>Visualization omitted, Javascript library not loaded!</b><br>\n",
       "  Have you run `initjs()` in this notebook? If this notebook was from another\n",
       "  user you must also trust this notebook (File -> Trust notebook). If you are viewing\n",
       "  this notebook on github the Javascript has been stripped for security. If you are using\n",
       "  JupyterLab this error is because a JupyterLab extension has not yet been written.\n",
       "</div></div>\n",
       " <script>\n",
       "   if (window.SHAP) SHAP.ReactDom.render(\n",
       "    SHAP.React.createElement(SHAP.AdditiveForceVisualizer, {\"outNames\": [\"f(x)\"], \"baseValue\": 0.48, \"outValue\": 1.0, \"link\": \"identity\", \"featureNames\": [\"total_strokes\", \"total_points\", \"average_points_per_stroke\", \"drawing_duration\", \"distance_first_to_last_point\", \"convex_hull_to_bounding_rectangle_ratio\"], \"features\": {\"0\": {\"effect\": -0.010000000000000106, \"value\": 3.0}, \"1\": {\"effect\": 0.15400000000000005, \"value\": 371.0}, \"2\": {\"effect\": -0.014666666666666823, \"value\": 123.66666666666667}, \"3\": {\"effect\": 0.2653333333333336, \"value\": 2.769836664199829}, \"4\": {\"effect\": 0.00999999999999998, \"value\": 185.41305239923105}, \"5\": {\"effect\": 0.11533333333333334, \"value\": 0.012517363279613093}}, \"plot_cmap\": \"RdBu\", \"labelMargin\": 20}),\n",
       "    document.getElementById('iTGD7647Y7V5Y8V6NOLEG')\n",
       "  );\n",
       "</script>"
      ],
      "text/plain": [
       "<shap.plots._force.AdditiveForceVisualizer at 0x18158e3c550>"
      ]
     },
     "execution_count": 5,
     "metadata": {},
     "output_type": "execute_result"
    }
   ],
   "source": [
    "import shap\n",
    "import matplotlib.pyplot as plt\n",
    "instance = 2\n",
    "ex = shap.KernelExplainer(clf.predict, X_train)\n",
    "shap_values = ex.shap_values(X_test.iloc[instance,:])\n",
    "shap.force_plot(ex.expected_value, shap_values, X_test.iloc[instance,:])"
   ]
  },
  {
   "cell_type": "code",
   "execution_count": 6,
   "id": "4256f793",
   "metadata": {},
   "outputs": [
    {
     "data": {
      "text/html": [
       "\n",
       "<div id='iB72U29JLUE5NNN1T3YKU'>\n",
       "<div style='color: #900; text-align: center;'>\n",
       "  <b>Visualization omitted, Javascript library not loaded!</b><br>\n",
       "  Have you run `initjs()` in this notebook? If this notebook was from another\n",
       "  user you must also trust this notebook (File -> Trust notebook). If you are viewing\n",
       "  this notebook on github the Javascript has been stripped for security. If you are using\n",
       "  JupyterLab this error is because a JupyterLab extension has not yet been written.\n",
       "</div></div>\n",
       " <script>\n",
       "   if (window.SHAP) SHAP.ReactDom.render(\n",
       "    SHAP.React.createElement(SHAP.AdditiveForceVisualizer, {\"outNames\": [\"f(x)\"], \"baseValue\": 0.48, \"outValue\": 1.0, \"link\": \"identity\", \"featureNames\": [\"total_strokes\", \"total_points\", \"average_points_per_stroke\", \"drawing_duration\", \"distance_first_to_last_point\", \"convex_hull_to_bounding_rectangle_ratio\"], \"features\": {\"0\": {\"effect\": 0.011999999999999929, \"value\": 2.0}, \"1\": {\"effect\": 0.1406666666666667, \"value\": 559.0}, \"2\": {\"effect\": 0.037333333333333295, \"value\": 279.5}, \"3\": {\"effect\": 0.24533333333333365, \"value\": 3.9604904651641846}, \"4\": {\"effect\": 0.019333333333333255, \"value\": 278.4600509947522}, \"5\": {\"effect\": 0.06533333333333319, \"value\": 0.013096759062789164}}, \"plot_cmap\": \"RdBu\", \"labelMargin\": 20}),\n",
       "    document.getElementById('iB72U29JLUE5NNN1T3YKU')\n",
       "  );\n",
       "</script>"
      ],
      "text/plain": [
       "<shap.plots._force.AdditiveForceVisualizer at 0x18131d7b400>"
      ]
     },
     "execution_count": 6,
     "metadata": {},
     "output_type": "execute_result"
    }
   ],
   "source": [
    "import shap\n",
    "import matplotlib.pyplot as plt\n",
    "instance = 3\n",
    "ex = shap.KernelExplainer(clf.predict, X_train)\n",
    "shap_values = ex.shap_values(X_test.iloc[instance,:])\n",
    "shap.force_plot(ex.expected_value, shap_values, X_test.iloc[instance,:])"
   ]
  },
  {
   "cell_type": "code",
   "execution_count": 7,
   "id": "e686d89b",
   "metadata": {},
   "outputs": [
    {
     "data": {
      "text/html": [
       "\n",
       "<div id='iYZTKVO9GPC1SPFLDQCXT'>\n",
       "<div style='color: #900; text-align: center;'>\n",
       "  <b>Visualization omitted, Javascript library not loaded!</b><br>\n",
       "  Have you run `initjs()` in this notebook? If this notebook was from another\n",
       "  user you must also trust this notebook (File -> Trust notebook). If you are viewing\n",
       "  this notebook on github the Javascript has been stripped for security. If you are using\n",
       "  JupyterLab this error is because a JupyterLab extension has not yet been written.\n",
       "</div></div>\n",
       " <script>\n",
       "   if (window.SHAP) SHAP.ReactDom.render(\n",
       "    SHAP.React.createElement(SHAP.AdditiveForceVisualizer, {\"outNames\": [\"f(x)\"], \"baseValue\": 0.48, \"outValue\": 0.0, \"link\": \"identity\", \"featureNames\": [\"total_strokes\", \"total_points\", \"average_points_per_stroke\", \"drawing_duration\", \"distance_first_to_last_point\", \"convex_hull_to_bounding_rectangle_ratio\"], \"features\": {\"0\": {\"effect\": 0.0013333333333333695, \"value\": 2.0}, \"1\": {\"effect\": -0.08733333333333339, \"value\": 848.0}, \"2\": {\"effect\": -0.037333333333333295, \"value\": 424.0}, \"3\": {\"effect\": -0.3106666666666668, \"value\": 1.948437213897705}, \"4\": {\"effect\": -0.01866666666666662, \"value\": 339.7131142596647}, \"5\": {\"effect\": -0.02733333333333321, \"value\": 0.010272933455793986}}, \"plot_cmap\": \"RdBu\", \"labelMargin\": 20}),\n",
       "    document.getElementById('iYZTKVO9GPC1SPFLDQCXT')\n",
       "  );\n",
       "</script>"
      ],
      "text/plain": [
       "<shap.plots._force.AdditiveForceVisualizer at 0x18158e13f40>"
      ]
     },
     "execution_count": 7,
     "metadata": {},
     "output_type": "execute_result"
    }
   ],
   "source": [
    "import shap\n",
    "import matplotlib.pyplot as plt\n",
    "instance = 4\n",
    "ex = shap.KernelExplainer(clf.predict, X_train)\n",
    "shap_values = ex.shap_values(X_test.iloc[instance,:])\n",
    "shap.force_plot(ex.expected_value, shap_values, X_test.iloc[instance,:])"
   ]
  },
  {
   "cell_type": "code",
   "execution_count": 8,
   "id": "96e7cbb6",
   "metadata": {},
   "outputs": [
    {
     "data": {
      "text/html": [
       "\n",
       "<div id='iCJ1EPW1Z5CN9MYJPZCS6'>\n",
       "<div style='color: #900; text-align: center;'>\n",
       "  <b>Visualization omitted, Javascript library not loaded!</b><br>\n",
       "  Have you run `initjs()` in this notebook? If this notebook was from another\n",
       "  user you must also trust this notebook (File -> Trust notebook). If you are viewing\n",
       "  this notebook on github the Javascript has been stripped for security. If you are using\n",
       "  JupyterLab this error is because a JupyterLab extension has not yet been written.\n",
       "</div></div>\n",
       " <script>\n",
       "   if (window.SHAP) SHAP.ReactDom.render(\n",
       "    SHAP.React.createElement(SHAP.AdditiveForceVisualizer, {\"outNames\": [\"f(x)\"], \"baseValue\": 0.48, \"outValue\": 1.0, \"link\": \"identity\", \"featureNames\": [\"total_strokes\", \"total_points\", \"average_points_per_stroke\", \"drawing_duration\", \"distance_first_to_last_point\", \"convex_hull_to_bounding_rectangle_ratio\"], \"features\": {\"0\": {\"effect\": -0.008000000000000186, \"value\": 3.0}, \"1\": {\"effect\": 0.18866666666666684, \"value\": 630.0}, \"2\": {\"effect\": 0.03333333333333331, \"value\": 210.0}, \"3\": {\"effect\": 0.26200000000000023, \"value\": 4.451772212982178}, \"4\": {\"effect\": 0.0019999999999999285, \"value\": 181.11046352985792}, \"5\": {\"effect\": 0.04199999999999987, \"value\": 0.012813913096922404}}, \"plot_cmap\": \"RdBu\", \"labelMargin\": 20}),\n",
       "    document.getElementById('iCJ1EPW1Z5CN9MYJPZCS6')\n",
       "  );\n",
       "</script>"
      ],
      "text/plain": [
       "<shap.plots._force.AdditiveForceVisualizer at 0x18158e46eb0>"
      ]
     },
     "execution_count": 8,
     "metadata": {},
     "output_type": "execute_result"
    }
   ],
   "source": [
    "import shap\n",
    "import matplotlib.pyplot as plt\n",
    "instance = 5\n",
    "ex = shap.KernelExplainer(clf.predict, X_train)\n",
    "shap_values = ex.shap_values(X_test.iloc[instance,:])\n",
    "shap.force_plot(ex.expected_value, shap_values, X_test.iloc[instance,:])"
   ]
  },
  {
   "cell_type": "code",
   "execution_count": 9,
   "id": "6b393684",
   "metadata": {},
   "outputs": [
    {
     "data": {
      "text/html": [
       "\n",
       "<div id='i419V48M1L8WZPW9FGHMK'>\n",
       "<div style='color: #900; text-align: center;'>\n",
       "  <b>Visualization omitted, Javascript library not loaded!</b><br>\n",
       "  Have you run `initjs()` in this notebook? If this notebook was from another\n",
       "  user you must also trust this notebook (File -> Trust notebook). If you are viewing\n",
       "  this notebook on github the Javascript has been stripped for security. If you are using\n",
       "  JupyterLab this error is because a JupyterLab extension has not yet been written.\n",
       "</div></div>\n",
       " <script>\n",
       "   if (window.SHAP) SHAP.ReactDom.render(\n",
       "    SHAP.React.createElement(SHAP.AdditiveForceVisualizer, {\"outNames\": [\"f(x)\"], \"baseValue\": 0.48, \"outValue\": 1.0, \"link\": \"identity\", \"featureNames\": [\"total_strokes\", \"total_points\", \"average_points_per_stroke\", \"drawing_duration\", \"distance_first_to_last_point\", \"convex_hull_to_bounding_rectangle_ratio\"], \"features\": {\"0\": {\"effect\": 0.010666666666666512, \"value\": 2.0}, \"1\": {\"effect\": 0.3060000000000003, \"value\": 598.0}, \"2\": {\"effect\": 0.15733333333333355, \"value\": 299.0}, \"3\": {\"effect\": 0.1246666666666666, \"value\": 2.151970863342285}, \"4\": {\"effect\": -0.014666666666666849, \"value\": 388.7235521549987}, \"5\": {\"effect\": -0.06400000000000017, \"value\": 0.008719190746953005}}, \"plot_cmap\": \"RdBu\", \"labelMargin\": 20}),\n",
       "    document.getElementById('i419V48M1L8WZPW9FGHMK')\n",
       "  );\n",
       "</script>"
      ],
      "text/plain": [
       "<shap.plots._force.AdditiveForceVisualizer at 0x18158e50b80>"
      ]
     },
     "execution_count": 9,
     "metadata": {},
     "output_type": "execute_result"
    }
   ],
   "source": [
    "import shap\n",
    "import matplotlib.pyplot as plt\n",
    "instance = 6\n",
    "ex = shap.KernelExplainer(clf.predict, X_train)\n",
    "shap_values = ex.shap_values(X_test.iloc[instance,:])\n",
    "shap.force_plot(ex.expected_value, shap_values, X_test.iloc[instance,:])"
   ]
  }
 ],
 "metadata": {
  "kernelspec": {
   "display_name": "Python 3 (ipykernel)",
   "language": "python",
   "name": "python3"
  },
  "language_info": {
   "codemirror_mode": {
    "name": "ipython",
    "version": 3
   },
   "file_extension": ".py",
   "mimetype": "text/x-python",
   "name": "python",
   "nbconvert_exporter": "python",
   "pygments_lexer": "ipython3",
   "version": "3.9.12"
  }
 },
 "nbformat": 4,
 "nbformat_minor": 5
}
